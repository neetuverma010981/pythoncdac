{
 "cells": [
  {
   "cell_type": "markdown",
   "id": "1718257a-29c4-4dab-8424-ee07e1a6f7c4",
   "metadata": {},
   "source": [
    "#### Write a program to read a number from user and find the square root, sin, tan, log and factorial of this number using math module."
   ]
  },
  {
   "cell_type": "code",
   "execution_count": 2,
   "id": "cbd62b7b-501d-4998-9270-f4f15a6b2050",
   "metadata": {},
   "outputs": [],
   "source": [
    "## import math module\n",
    "import math "
   ]
  },
  {
   "cell_type": "code",
   "execution_count": 6,
   "id": "b5b43d9a-56a4-4dfe-ae73-a5ad808c72f0",
   "metadata": {},
   "outputs": [
    {
     "name": "stdin",
     "output_type": "stream",
     "text": [
      "Enter the first number (num):  1\n"
     ]
    },
    {
     "name": "stdout",
     "output_type": "stream",
     "text": [
      "Squart root of number: 1.0\n",
      "Sin of number: 0.8414709848078965\n",
      "tan of number: 1.5574077246549023\n",
      "log of number: 0.0\n",
      "factorial of number: 1\n"
     ]
    }
   ],
   "source": [
    "num = int(input(\"Enter the first number (num): \"))\n",
    "print('Squart root of number:', math.sqrt(num))\n",
    "print('Sin of number:', math.sin(num))\n",
    "print('tan of number:', math.tan(num))\n",
    "print('log of number:', math.log(num))\n",
    "print('factorial of number:', math.factorial(num))"
   ]
  },
  {
   "cell_type": "code",
   "execution_count": null,
   "id": "b2022cef-9aac-4f60-b04a-a39b06c1e7ac",
   "metadata": {},
   "outputs": [],
   "source": []
  }
 ],
 "metadata": {
  "kernelspec": {
   "display_name": "Python 3 (ipykernel)",
   "language": "python",
   "name": "python3"
  },
  "language_info": {
   "codemirror_mode": {
    "name": "ipython",
    "version": 3
   },
   "file_extension": ".py",
   "mimetype": "text/x-python",
   "name": "python",
   "nbconvert_exporter": "python",
   "pygments_lexer": "ipython3",
   "version": "3.12.4"
  }
 },
 "nbformat": 4,
 "nbformat_minor": 5
}
