{
 "cells": [
  {
   "cell_type": "markdown",
   "id": "ef722001-9b94-45eb-b474-4fc48ba33cc8",
   "metadata": {},
   "source": [
    "#### Read radius of the circle from user and find the area and perimeter of it."
   ]
  },
  {
   "cell_type": "code",
   "execution_count": 15,
   "id": "27c64eb6-9f4b-4e17-b4aa-fd2c432a39e2",
   "metadata": {},
   "outputs": [
    {
     "name": "stdin",
     "output_type": "stream",
     "text": [
      "Enter the radius: 1\n"
     ]
    },
    {
     "name": "stdout",
     "output_type": "stream",
     "text": [
      "Perimeter of Circle: 12.571428571428571\n",
      "Area of Circle: 3.142857142857143\n"
     ]
    }
   ],
   "source": [
    "radius = float (input('Enter the radius:')) \n",
    "perimeter = 4*(22/7)*radius\n",
    "print('Perimeter of Circle:', perimeter)\n",
    "perimeter = (22/7)*radius*radius\n",
    "print('Area of Circle:', perimeter)"
   ]
  },
  {
   "cell_type": "code",
   "execution_count": null,
   "id": "7bbbe090-c36a-4257-8cab-0b11294ef2eb",
   "metadata": {},
   "outputs": [],
   "source": []
  }
 ],
 "metadata": {
  "kernelspec": {
   "display_name": "Python 3 (ipykernel)",
   "language": "python",
   "name": "python3"
  },
  "language_info": {
   "codemirror_mode": {
    "name": "ipython",
    "version": 3
   },
   "file_extension": ".py",
   "mimetype": "text/x-python",
   "name": "python",
   "nbconvert_exporter": "python",
   "pygments_lexer": "ipython3",
   "version": "3.12.4"
  }
 },
 "nbformat": 4,
 "nbformat_minor": 5
}
