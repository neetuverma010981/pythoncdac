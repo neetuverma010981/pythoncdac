{
 "cells": [
  {
   "cell_type": "markdown",
   "id": "f2f54489-7704-412b-bcbe-e8f63cfcb436",
   "metadata": {},
   "source": [
    "#### Write a program to input basic salary and find output of gross salary using following:\n",
    "#### DA = 75% of basic\n",
    "#### HRA = 20% of basic\n",
    "#### Conditions:\n",
    "#### Basic < 10000 : gross = da + basic\n",
    "#### Basic >= 10000 and < 20000 : gross = da + basic + 50% of hra\n",
    "#### Basic >= 20000 : gross = basic + da + hra\n",
    "#### Sample: Input and Output\n",
    "#### 5000 : 3750 + 5000 = 8750\n",
    "#### 12000 : 9000 + 12000 + 1200 = 22200\n",
    "#### 24000 : 18000 + 24000 + 4800 = 46800\n"
   ]
  },
  {
   "cell_type": "code",
   "execution_count": 12,
   "id": "cf37cd1d-c5d9-40ac-94a6-ffb3b6c8b22a",
   "metadata": {},
   "outputs": [
    {
     "name": "stdin",
     "output_type": "stream",
     "text": [
      "Enter the basic salary: 20000000\n"
     ]
    },
    {
     "name": "stdout",
     "output_type": "stream",
     "text": [
      "gross salary: 39000000.0\n"
     ]
    }
   ],
   "source": [
    "basic_salary = int(input('Enter the basic salary:')) \n",
    "\n",
    "gross = 0\n",
    "da = 0.75*basic_salary\n",
    "hra = 0.20*basic_salary\n",
    "\n",
    "if basic_salary<1000:                                #elif is Compulsory, condition, Non-repeatable\n",
    "    gross = da + basic_salary\n",
    "    print('gross salary:', gross)\n",
    "elif basic_salary>=1000 and basic_salary<20000:                          #elif is optional, condition, repeatable\n",
    "    gross = da + basic_salary + 0.5 * hra\n",
    "    print('gross salary:', gross)\n",
    "elif basic_salary>=20000:                                     #else is optional, no-condition,  Non-repeatable\n",
    "    gross = basic_salary + da + hra \n",
    "    print('gross salary:', gross)"
   ]
  },
  {
   "cell_type": "code",
   "execution_count": null,
   "id": "f4593c4e-2621-42b2-b74c-dbcac9f6d13b",
   "metadata": {},
   "outputs": [],
   "source": []
  }
 ],
 "metadata": {
  "kernelspec": {
   "display_name": "Python 3 (ipykernel)",
   "language": "python",
   "name": "python3"
  },
  "language_info": {
   "codemirror_mode": {
    "name": "ipython",
    "version": 3
   },
   "file_extension": ".py",
   "mimetype": "text/x-python",
   "name": "python",
   "nbconvert_exporter": "python",
   "pygments_lexer": "ipython3",
   "version": "3.12.4"
  }
 },
 "nbformat": 4,
 "nbformat_minor": 5
}
