{
 "cells": [
  {
   "cell_type": "markdown",
   "id": "88c129c8-07fd-42ec-9869-23bb64c61b5a",
   "metadata": {},
   "source": [
    "#### Write a program to read a number from user. Create and use a user defined function to check whether it is odd or even?"
   ]
  },
  {
   "cell_type": "code",
   "execution_count": 23,
   "id": "74a262db-716e-4b59-a616-d1e5f8b79de7",
   "metadata": {},
   "outputs": [],
   "source": [
    "import numpy as np"
   ]
  },
  {
   "cell_type": "code",
   "execution_count": 51,
   "id": "17f896a0-1a88-4b64-937d-be2b927c2be7",
   "metadata": {},
   "outputs": [],
   "source": [
    "def separatelist_even_odd(numbers):\n",
    "    #numbers = np.array(numbersobj)\n",
    "   \n",
    "   # numbers = list (numbers)\n",
    "    \n",
    "    even_numberslist = []\n",
    "    odd_numberslist = []\n",
    "    \n",
    "    for number in numbers:\n",
    "        if number % 2 == 0:\n",
    "            even_numberslist.append(number)\n",
    "        else:\n",
    "            odd_numberslist.append(number)\n",
    "    print(\"Even Number list:\", even_numberslist)\n",
    "    print(\"Odd Number list:\", odd_numberslist)"
   ]
  },
  {
   "cell_type": "code",
   "execution_count": 53,
   "id": "b42561d4-bf76-4392-a64c-6a2be6686de2",
   "metadata": {},
   "outputs": [
    {
     "name": "stdin",
     "output_type": "stream",
     "text": [
      "Enter the number: 2\n"
     ]
    },
    {
     "ename": "TypeError",
     "evalue": "'int' object is not iterable",
     "output_type": "error",
     "traceback": [
      "\u001b[1;31m---------------------------------------------------------------------------\u001b[0m",
      "\u001b[1;31mTypeError\u001b[0m                                 Traceback (most recent call last)",
      "Cell \u001b[1;32mIn[53], line 2\u001b[0m\n\u001b[0;32m      1\u001b[0m numbersobj \u001b[38;5;241m=\u001b[39m \u001b[38;5;28mint\u001b[39m(\u001b[38;5;28minput\u001b[39m(\u001b[38;5;124m'\u001b[39m\u001b[38;5;124mEnter the number:\u001b[39m\u001b[38;5;124m'\u001b[39m)) \n\u001b[1;32m----> 2\u001b[0m separatelist_even_odd(numbersobj)\n",
      "Cell \u001b[1;32mIn[51], line 9\u001b[0m, in \u001b[0;36mseparatelist_even_odd\u001b[1;34m(numbers)\u001b[0m\n\u001b[0;32m      6\u001b[0m even_numberslist \u001b[38;5;241m=\u001b[39m []\n\u001b[0;32m      7\u001b[0m odd_numberslist \u001b[38;5;241m=\u001b[39m []\n\u001b[1;32m----> 9\u001b[0m \u001b[38;5;28;01mfor\u001b[39;00m number \u001b[38;5;129;01min\u001b[39;00m numbers:\n\u001b[0;32m     10\u001b[0m     \u001b[38;5;28;01mif\u001b[39;00m number \u001b[38;5;241m%\u001b[39m \u001b[38;5;241m2\u001b[39m \u001b[38;5;241m==\u001b[39m \u001b[38;5;241m0\u001b[39m:\n\u001b[0;32m     11\u001b[0m         even_numberslist\u001b[38;5;241m.\u001b[39mappend(number)\n",
      "\u001b[1;31mTypeError\u001b[0m: 'int' object is not iterable"
     ]
    }
   ],
   "source": [
    "numbersobj = int(input('Enter the number:')) \n",
    "separatelist_even_odd(numbersobj)"
   ]
  },
  {
   "cell_type": "code",
   "execution_count": null,
   "id": "095f2bd3-1d70-4cf2-ae41-08687b068b97",
   "metadata": {},
   "outputs": [],
   "source": []
  }
 ],
 "metadata": {
  "kernelspec": {
   "display_name": "Python 3 (ipykernel)",
   "language": "python",
   "name": "python3"
  },
  "language_info": {
   "codemirror_mode": {
    "name": "ipython",
    "version": 3
   },
   "file_extension": ".py",
   "mimetype": "text/x-python",
   "name": "python",
   "nbconvert_exporter": "python",
   "pygments_lexer": "ipython3",
   "version": "3.12.4"
  }
 },
 "nbformat": 4,
 "nbformat_minor": 5
}
