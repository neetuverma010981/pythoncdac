{
 "cells": [
  {
   "cell_type": "markdown",
   "id": "88c129c8-07fd-42ec-9869-23bb64c61b5a",
   "metadata": {},
   "source": [
    "#### Write a program to read a number from user. Create and use a user defined function to check whether it is odd or even?"
   ]
  },
  {
   "cell_type": "code",
   "execution_count": 5,
   "id": "b8c386ac-dbbe-49b3-996c-f90cf25fcb04",
   "metadata": {},
   "outputs": [
    {
     "name": "stdin",
     "output_type": "stream",
     "text": [
      "Enter the number: 4\n"
     ]
    },
    {
     "name": "stdout",
     "output_type": "stream",
     "text": [
      "Number is even. \n"
     ]
    }
   ],
   "source": [
    "num = int(input('Enter the number:')) \n",
    "if num==0:                                #elif is Compulsory, condition, Non-repeatable\n",
    " print('Number is Zero. A powerful number!!!')\n",
    "elif num%2 == 0:                          #elif is optional, condition, repeatable\n",
    " print('Number is even. ')\n",
    "else:                                     #else is optional, no-condition,  Non-repeatable\n",
    " print('Number is Odd!')\n"
   ]
  },
  {
   "cell_type": "code",
   "execution_count": null,
   "id": "b42561d4-bf76-4392-a64c-6a2be6686de2",
   "metadata": {},
   "outputs": [],
   "source": []
  }
 ],
 "metadata": {
  "kernelspec": {
   "display_name": "Python 3 (ipykernel)",
   "language": "python",
   "name": "python3"
  },
  "language_info": {
   "codemirror_mode": {
    "name": "ipython",
    "version": 3
   },
   "file_extension": ".py",
   "mimetype": "text/x-python",
   "name": "python",
   "nbconvert_exporter": "python",
   "pygments_lexer": "ipython3",
   "version": "3.12.4"
  }
 },
 "nbformat": 4,
 "nbformat_minor": 5
}
