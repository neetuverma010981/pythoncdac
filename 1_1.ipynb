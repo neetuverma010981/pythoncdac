{
 "cells": [
  {
   "cell_type": "markdown",
   "id": "a2e0f17e-39a9-4407-a85c-c779a1231063",
   "metadata": {},
   "source": [
    "#### Write a program to read Celsius temperature and print equivalent Fahrenheit temperate on screen."
   ]
  },
  {
   "cell_type": "code",
   "execution_count": 33,
   "id": "bb99f763-1fcf-4924-bb30-bad4034d5ccd",
   "metadata": {},
   "outputs": [
    {
     "name": "stdin",
     "output_type": "stream",
     "text": [
      "Enter the temperature in fahrenheit to convert in celsius: 1\n"
     ]
    },
    {
     "name": "stdout",
     "output_type": "stream",
     "text": [
      "Celsius: -17.22222222222222\n"
     ]
    }
   ],
   "source": [
    "fahrenheit = float (input('Enter the temperature in fahrenheit to convert in celsius:')) \n",
    " \n",
    "celsius = (fahrenheit - 32) / 1.8\n",
    "print('Celsius:', celsius)"
   ]
  },
  {
   "cell_type": "code",
   "execution_count": 35,
   "id": "3fe1e838-c443-4d1d-9263-de6329b13432",
   "metadata": {},
   "outputs": [
    {
     "name": "stdin",
     "output_type": "stream",
     "text": [
      "Enter the temperature in fahrenheit to convert in celsius: 11\n"
     ]
    },
    {
     "name": "stdout",
     "output_type": "stream",
     "text": [
      "hellooo\n"
     ]
    }
   ],
   "source": [
    "fahrenheit = float (input('Enter the temperature in fahrenheit to convert in celsius:'))\n",
    "print('hellooo')"
   ]
  },
  {
   "cell_type": "code",
   "execution_count": 50,
   "id": "39ca8f77-f522-4d94-8306-75aa513c3f73",
   "metadata": {},
   "outputs": [
    {
     "name": "stdin",
     "output_type": "stream",
     "text": [
      "Enter the number to find factorial: 3\n"
     ]
    },
    {
     "name": "stdout",
     "output_type": "stream",
     "text": [
      "factorial_of_number is: 2\n"
     ]
    }
   ],
   "source": [
    "Number_input = int(input('Enter the number to find factorial:')) \n",
    "\n",
    "while  Number_input>=2:    # Condition with colon\n",
    "    factorial_of_number = Number_input*(Number_input-1)\n",
    "    #print(Number_input)\n",
    "    Number_input -=1\n",
    "print('factorial_of_number is:', factorial_of_number)"
   ]
  },
  {
   "cell_type": "code",
   "execution_count": null,
   "id": "43e02a40-b453-4ab2-94a1-fc227e4d0db7",
   "metadata": {},
   "outputs": [],
   "source": []
  }
 ],
 "metadata": {
  "kernelspec": {
   "display_name": "Python 3 (ipykernel)",
   "language": "python",
   "name": "python3"
  },
  "language_info": {
   "codemirror_mode": {
    "name": "ipython",
    "version": 3
   },
   "file_extension": ".py",
   "mimetype": "text/x-python",
   "name": "python",
   "nbconvert_exporter": "python",
   "pygments_lexer": "ipython3",
   "version": "3.12.4"
  }
 },
 "nbformat": 4,
 "nbformat_minor": 5
}
