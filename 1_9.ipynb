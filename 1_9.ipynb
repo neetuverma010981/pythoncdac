{
 "cells": [
  {
   "cell_type": "markdown",
   "id": "586fbab9-d482-4bc1-8dc0-3d6a22e64821",
   "metadata": {},
   "source": [
    "#### See the tuple given: num = (56,2,35,41,43,48,32,56,71,55,68)\n",
    "#### Write a program to create two lists from it where first list contains only even \n",
    "#### numbers and second will contain only odd numbers."
   ]
  },
  {
   "cell_type": "code",
   "execution_count": 4,
   "id": "8e43784b-acca-4d08-901e-9373923ce71e",
   "metadata": {},
   "outputs": [],
   "source": [
    "num = (56,2,35,41,43,48,32,56,71,55,68)"
   ]
  },
  {
   "cell_type": "code",
   "execution_count": null,
   "id": "89d88a09-013f-4a98-9268-367f913362ca",
   "metadata": {},
   "outputs": [],
   "source": []
  }
 ],
 "metadata": {
  "kernelspec": {
   "display_name": "Python 3 (ipykernel)",
   "language": "python",
   "name": "python3"
  },
  "language_info": {
   "codemirror_mode": {
    "name": "ipython",
    "version": 3
   },
   "file_extension": ".py",
   "mimetype": "text/x-python",
   "name": "python",
   "nbconvert_exporter": "python",
   "pygments_lexer": "ipython3",
   "version": "3.12.4"
  }
 },
 "nbformat": 4,
 "nbformat_minor": 5
}
