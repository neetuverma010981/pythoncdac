{
 "cells": [
  {
   "cell_type": "markdown",
   "id": "d51c9f36-e9ea-498d-aeb6-6373a1d9efe4",
   "metadata": {},
   "source": [
    "#### Write a Python program to calculate profit or loss. Input is selling cost and actual cost of a product"
   ]
  },
  {
   "cell_type": "code",
   "execution_count": 10,
   "id": "6aadbecc-eb7f-40f5-8a54-c35b8717b35c",
   "metadata": {},
   "outputs": [
    {
     "name": "stdin",
     "output_type": "stream",
     "text": [
      "Enter the Selling Price: 11\n",
      "Enter the Cost Price: 12\n"
     ]
    },
    {
     "name": "stdout",
     "output_type": "stream",
     "text": [
      "Loss: -1\n"
     ]
    }
   ],
   "source": [
    "selling_price = int(input('Enter the Selling Price:')) \n",
    "cost_price = int(input('Enter the Cost Price:')) \n",
    "\n",
    "profit_or_loss = selling_price - cost_price\n",
    "\n",
    "if(profit_or_loss  == 0):                          #Colon is compulsory\n",
    " print('No Profit no loss')\n",
    "if(profit_or_loss  > 0):                          #Colon is compulsory\n",
    " print('Profit:', profit_or_loss)\n",
    "else: \n",
    " print('Loss:', profit_or_loss)"
   ]
  },
  {
   "cell_type": "markdown",
   "id": "52f20829-5760-4363-947b-23ef90a7fd42",
   "metadata": {},
   "source": [
    "# "
   ]
  }
 ],
 "metadata": {
  "kernelspec": {
   "display_name": "Python 3 (ipykernel)",
   "language": "python",
   "name": "python3"
  },
  "language_info": {
   "codemirror_mode": {
    "name": "ipython",
    "version": 3
   },
   "file_extension": ".py",
   "mimetype": "text/x-python",
   "name": "python",
   "nbconvert_exporter": "python",
   "pygments_lexer": "ipython3",
   "version": "3.12.4"
  }
 },
 "nbformat": 4,
 "nbformat_minor": 5
}
