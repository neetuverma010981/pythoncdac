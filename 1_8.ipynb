{
 "cells": [
  {
   "cell_type": "markdown",
   "id": "ff1bacfa-b70d-4532-bcf3-85f44ee4dd96",
   "metadata": {},
   "source": [
    "#### Write a program to read num1 and num2 from keyboard and find addition of all number between that range."
   ]
  },
  {
   "cell_type": "code",
   "execution_count": 22,
   "id": "34bb92f6-ae65-4bb0-9eb9-26a491fe819f",
   "metadata": {},
   "outputs": [
    {
     "name": "stdin",
     "output_type": "stream",
     "text": [
      "Enter the first number (num1):  0\n",
      "Enter the second number (num2):  3\n"
     ]
    },
    {
     "name": "stdout",
     "output_type": "stream",
     "text": [
      "The sum of all numbers between 0 and 3 is 6.\n"
     ]
    }
   ],
   "source": [
    "# Read num1 and num2 from the keyboard\n",
    "num1 = int(input(\"Enter the first number (num1): \"))\n",
    "num2 = int(input(\"Enter the second number (num2): \"))\n",
    "\n",
    "def sum_of_range(num1, num2):\n",
    "    # Calculate the sum of all numbers between num1 and num2 (inclusive)\n",
    "    return sum(range(num1, num2 + 1))\n",
    "\n",
    "# Calculate the sum of the range and print the result\n",
    "print(f\"The sum of all numbers between {num1} and {num2} is {sum_of_range(num1, num2)}.\")"
   ]
  },
  {
   "cell_type": "code",
   "execution_count": null,
   "id": "9b8c5ef7-9993-42d7-9a73-39ce69cb3822",
   "metadata": {},
   "outputs": [],
   "source": []
  }
 ],
 "metadata": {
  "kernelspec": {
   "display_name": "Python 3 (ipykernel)",
   "language": "python",
   "name": "python3"
  },
  "language_info": {
   "codemirror_mode": {
    "name": "ipython",
    "version": 3
   },
   "file_extension": ".py",
   "mimetype": "text/x-python",
   "name": "python",
   "nbconvert_exporter": "python",
   "pygments_lexer": "ipython3",
   "version": "3.12.4"
  }
 },
 "nbformat": 4,
 "nbformat_minor": 5
}
