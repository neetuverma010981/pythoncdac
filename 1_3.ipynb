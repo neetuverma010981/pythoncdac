{
 "cells": [
  {
   "cell_type": "markdown",
   "id": "7a912863-4170-4312-8290-575b5412324c",
   "metadata": {},
   "source": [
    "#### Read the amount and percentage of interest from the keyboard and find final amount after adding interest in original amount."
   ]
  },
  {
   "cell_type": "code",
   "execution_count": 2,
   "id": "405cbdbd-3054-4f67-b0f5-a83af9114217",
   "metadata": {},
   "outputs": [
    {
     "name": "stdin",
     "output_type": "stream",
     "text": [
      "Enter the Amount: 100\n",
      "Enter the Percantage of Interest: 1\n"
     ]
    },
    {
     "name": "stdout",
     "output_type": "stream",
     "text": [
      "Final Amount: 101.0\n"
     ]
    }
   ],
   "source": [
    "original_amount = float (input('Enter the Amount:')) \n",
    "interest = float (input('Enter the Percantage of Interest:')) \n",
    "final_amount = original_amount + (original_amount*interest) / 100\n",
    "print('Final Amount:', final_amount)"
   ]
  },
  {
   "cell_type": "code",
   "execution_count": null,
   "id": "0ff61ff9-5117-4e03-b95e-5bcc25f76c66",
   "metadata": {},
   "outputs": [],
   "source": []
  }
 ],
 "metadata": {
  "kernelspec": {
   "display_name": "Python 3 (ipykernel)",
   "language": "python",
   "name": "python3"
  },
  "language_info": {
   "codemirror_mode": {
    "name": "ipython",
    "version": 3
   },
   "file_extension": ".py",
   "mimetype": "text/x-python",
   "name": "python",
   "nbconvert_exporter": "python",
   "pygments_lexer": "ipython3",
   "version": "3.12.4"
  }
 },
 "nbformat": 4,
 "nbformat_minor": 5
}
