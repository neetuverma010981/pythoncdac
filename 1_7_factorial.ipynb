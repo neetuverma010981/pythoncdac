{
 "cells": [
  {
   "cell_type": "code",
   "execution_count": 29,
   "id": "d49b81fb-e1fa-4623-ae7b-122290efd1e1",
   "metadata": {},
   "outputs": [
    {
     "name": "stdin",
     "output_type": "stream",
     "text": [
      "Enter the number to find factorial: 3\n"
     ]
    },
    {
     "name": "stdout",
     "output_type": "stream",
     "text": [
      "factorial of number is: 6\n"
     ]
    }
   ],
   "source": [
    "number_input = int(input('Enter the number to find factorial:')) \n",
    "factorial = 1\n",
    "\n",
    "if number_input ==0:\n",
    "    print('The factorial of 0 is 1')\n",
    "elif number_input < 0:\n",
    "    print('The factorial does not exist!')\n",
    "else:\n",
    "    for i in range(1, number_input + 1):\n",
    "       factorial = factorial*i\n",
    "    print('factorial of number is:', factorial)\n"
   ]
  },
  {
   "cell_type": "code",
   "execution_count": null,
   "id": "8eca8b4f-e76d-4e17-bb89-313c83655e11",
   "metadata": {},
   "outputs": [],
   "source": []
  }
 ],
 "metadata": {
  "kernelspec": {
   "display_name": "Python 3 (ipykernel)",
   "language": "python",
   "name": "python3"
  },
  "language_info": {
   "codemirror_mode": {
    "name": "ipython",
    "version": 3
   },
   "file_extension": ".py",
   "mimetype": "text/x-python",
   "name": "python",
   "nbconvert_exporter": "python",
   "pygments_lexer": "ipython3",
   "version": "3.12.4"
  }
 },
 "nbformat": 4,
 "nbformat_minor": 5
}
