{
 "cells": [
  {
   "cell_type": "markdown",
   "id": "987b5a25-828c-45cc-b131-4a90bea9a96a",
   "metadata": {},
   "source": [
    "#### Write a Python class named ‘Rectangle’ with two attributes length and width and a method named ‘calculate’ which will compute the area of a\n",
    "#### rectangle. Create an object to pass length and width and call the method to calculate the area of rectangle."
   ]
  },
  {
   "cell_type": "code",
   "execution_count": 63,
   "id": "932d3cd6-ae63-48d5-9aff-9451d5211e40",
   "metadata": {},
   "outputs": [],
   "source": [
    "class Rectangle:\n",
    "    #Constructor\n",
    "    def __init__(self, l, w):\n",
    "        self.length = l         #instance variable\n",
    "        self.width =  w        # name and age are attributes / properties\n",
    "    def calculate (ob1):\n",
    "        print('Area of Reactanle:', ob1.length*ob1.width)\n"
   ]
  },
  {
   "cell_type": "code",
   "execution_count": 81,
   "id": "26ee9487-22be-4b21-8c4f-5c7fe5bb036d",
   "metadata": {},
   "outputs": [
    {
     "name": "stdin",
     "output_type": "stream",
     "text": [
      "Enter the length: 12\n",
      "Enter the width: 12\n"
     ]
    },
    {
     "name": "stdout",
     "output_type": "stream",
     "text": [
      "Area of Reactanle: 144.0\n"
     ]
    }
   ],
   "source": [
    "#create the object of class Rectangle\n",
    "l = float (input('Enter the length:')) \n",
    "w = float (input('Enter the width:')) \n",
    "ob1 = Rectangle(l, w)\n",
    "ob1.length, ob1.width\n",
    "ob1.calculate()"
   ]
  },
  {
   "cell_type": "code",
   "execution_count": null,
   "id": "6d9fdd63-3e59-4f3e-a81d-8decdf48334d",
   "metadata": {},
   "outputs": [],
   "source": []
  }
 ],
 "metadata": {
  "kernelspec": {
   "display_name": "Python 3 (ipykernel)",
   "language": "python",
   "name": "python3"
  },
  "language_info": {
   "codemirror_mode": {
    "name": "ipython",
    "version": 3
   },
   "file_extension": ".py",
   "mimetype": "text/x-python",
   "name": "python",
   "nbconvert_exporter": "python",
   "pygments_lexer": "ipython3",
   "version": "3.12.4"
  }
 },
 "nbformat": 4,
 "nbformat_minor": 5
}
