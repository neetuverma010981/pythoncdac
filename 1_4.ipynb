{
 "cells": [
  {
   "cell_type": "markdown",
   "id": "5e3a3e26-5e66-4330-b550-d4b74404229c",
   "metadata": {},
   "source": [
    "#### Write a program to read distance value in meters and convert it into centimeters, inches, and yards."
   ]
  },
  {
   "cell_type": "code",
   "execution_count": 2,
   "id": "51253562-9a72-4892-9689-e8137c08c345",
   "metadata": {},
   "outputs": [
    {
     "name": "stdin",
     "output_type": "stream",
     "text": [
      "Enter the distance value in meters: 10\n"
     ]
    }
   ],
   "source": [
    "distance_in_meter = float (input('Enter the distance value in meters:')) \n"
   ]
  },
  {
   "cell_type": "code",
   "execution_count": 10,
   "id": "a81dac47-aecd-42a0-a7b0-73e6b0d37c93",
   "metadata": {},
   "outputs": [
    {
     "name": "stdout",
     "output_type": "stream",
     "text": [
      "Distance value in Centimeters: 1000.0\n"
     ]
    }
   ],
   "source": [
    "distance_in_centimeter = distance_in_meter*100\n",
    "print('Distance value in Centimeters:', distance_in_centimeter)"
   ]
  },
  {
   "cell_type": "code",
   "execution_count": 6,
   "id": "445351a3-ca94-4ad3-ae13-4ccfb76ac114",
   "metadata": {},
   "outputs": [
    {
     "name": "stdout",
     "output_type": "stream",
     "text": [
      "Distance value in Inches: 393.700787\n"
     ]
    }
   ],
   "source": [
    "distance_in_inches = distance_in_meter*39.3700787\n",
    "print('Distance value in Inches:', distance_in_inches)"
   ]
  },
  {
   "cell_type": "code",
   "execution_count": 8,
   "id": "03a600ca-2f68-4c63-a621-0e1b4f3544fd",
   "metadata": {},
   "outputs": [
    {
     "name": "stdout",
     "output_type": "stream",
     "text": [
      "Distance value in Yard: 10.936132999999998\n"
     ]
    }
   ],
   "source": [
    "distance_in_yard = distance_in_meter*1.0936133\n",
    "print('Distance value in Yard:', distance_in_yard)"
   ]
  },
  {
   "cell_type": "code",
   "execution_count": null,
   "id": "bb5b3795-1136-4a8d-83b3-1ce76ac57b56",
   "metadata": {},
   "outputs": [],
   "source": []
  }
 ],
 "metadata": {
  "kernelspec": {
   "display_name": "Python 3 (ipykernel)",
   "language": "python",
   "name": "python3"
  },
  "language_info": {
   "codemirror_mode": {
    "name": "ipython",
    "version": 3
   },
   "file_extension": ".py",
   "mimetype": "text/x-python",
   "name": "python",
   "nbconvert_exporter": "python",
   "pygments_lexer": "ipython3",
   "version": "3.12.4"
  }
 },
 "nbformat": 4,
 "nbformat_minor": 5
}
